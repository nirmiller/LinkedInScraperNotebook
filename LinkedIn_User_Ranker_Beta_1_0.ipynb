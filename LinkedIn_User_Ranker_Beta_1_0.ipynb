{
  "nbformat": 4,
  "nbformat_minor": 0,
  "metadata": {
    "colab": {
      "provenance": [],
      "collapsed_sections": [
        "Tw1rlxDQNz1m",
        "zGz6U29LN-9I",
        "uz9HWzcuO0Wa",
        "lTqhzncTPo1Q"
      ],
      "toc_visible": true
    },
    "kernelspec": {
      "name": "python3",
      "display_name": "Python 3"
    },
    "language_info": {
      "name": "python"
    }
  },
  "cells": [
    {
      "cell_type": "markdown",
      "source": [
        "## **LinkedIn User Ranker Beta 1.0**\n",
        "Nir Miller"
      ],
      "metadata": {
        "id": "TGS20yh03KCf"
      }
    },
    {
      "cell_type": "markdown",
      "source": [
        "This is the beta for the LinkedIn User Rank. To run this program insert your org_id into the org_id variable and hit Runtime -> Run all\n",
        "\n",
        "This program will go through your LinkedIn posts and analyze your most prominent commentors, ranking them by several criteria including : comment history, job title, and relative interest, providing a accurate dipication of customer interest."
      ],
      "metadata": {
        "id": "k_U-l-ct3Wou"
      }
    },
    {
      "cell_type": "markdown",
      "source": [
        "# Set up"
      ],
      "metadata": {
        "id": "JVxrUyxNNukz"
      }
    },
    {
      "cell_type": "markdown",
      "source": [
        "## Pip Installs"
      ],
      "metadata": {
        "id": "Tw1rlxDQNz1m"
      }
    },
    {
      "cell_type": "code",
      "source": [
        "!pip install -U pip setuptools wheel\n",
        "!pip install -U spacy\n",
        "!pip install transformers\n",
        "!pip install --user -U nltk\n",
        "!pip install -U pip setuptools wheel\n",
        "!pip install -U spacy"
      ],
      "metadata": {
        "id": "gYm6nk2QzK5o",
        "colab": {
          "base_uri": "https://localhost:8080/"
        },
        "outputId": "49f6a62d-37f1-4830-d65d-34e57684a0b1"
      },
      "execution_count": null,
      "outputs": [
        {
          "output_type": "stream",
          "name": "stdout",
          "text": [
            "Looking in indexes: https://pypi.org/simple, https://us-python.pkg.dev/colab-wheels/public/simple/\n",
            "Requirement already satisfied: pip in /usr/local/lib/python3.9/dist-packages (23.0.1)\n",
            "Requirement already satisfied: setuptools in /usr/local/lib/python3.9/dist-packages (67.6.0)\n",
            "Requirement already satisfied: wheel in /usr/local/lib/python3.9/dist-packages (0.38.4)\n",
            "\u001b[33mWARNING: Running pip as the 'root' user can result in broken permissions and conflicting behaviour with the system package manager. It is recommended to use a virtual environment instead: https://pip.pypa.io/warnings/venv\u001b[0m\u001b[33m\n",
            "\u001b[0mLooking in indexes: https://pypi.org/simple, https://us-python.pkg.dev/colab-wheels/public/simple/\n",
            "Requirement already satisfied: spacy in /usr/local/lib/python3.9/dist-packages (3.5.0)\n",
            "Requirement already satisfied: setuptools in /usr/local/lib/python3.9/dist-packages (from spacy) (67.6.0)\n",
            "Requirement already satisfied: wasabi<1.2.0,>=0.9.1 in /usr/local/lib/python3.9/dist-packages (from spacy) (0.10.1)\n",
            "Requirement already satisfied: thinc<8.2.0,>=8.1.0 in /usr/local/lib/python3.9/dist-packages (from spacy) (8.1.8)\n",
            "Requirement already satisfied: requests<3.0.0,>=2.13.0 in /usr/local/lib/python3.9/dist-packages (from spacy) (2.25.1)\n",
            "Requirement already satisfied: smart-open<7.0.0,>=5.2.1 in /usr/local/lib/python3.9/dist-packages (from spacy) (6.3.0)\n",
            "Requirement already satisfied: catalogue<2.1.0,>=2.0.6 in /usr/local/lib/python3.9/dist-packages (from spacy) (2.0.8)\n",
            "Requirement already satisfied: murmurhash<1.1.0,>=0.28.0 in /usr/local/lib/python3.9/dist-packages (from spacy) (1.0.9)\n",
            "Requirement already satisfied: tqdm<5.0.0,>=4.38.0 in /usr/local/lib/python3.9/dist-packages (from spacy) (4.65.0)\n",
            "Requirement already satisfied: packaging>=20.0 in /usr/local/lib/python3.9/dist-packages (from spacy) (23.0)\n",
            "Requirement already satisfied: typer<0.8.0,>=0.3.0 in /usr/local/lib/python3.9/dist-packages (from spacy) (0.7.0)\n",
            "Requirement already satisfied: jinja2 in /usr/local/lib/python3.9/dist-packages (from spacy) (3.1.2)\n",
            "Requirement already satisfied: cymem<2.1.0,>=2.0.2 in /usr/local/lib/python3.9/dist-packages (from spacy) (2.0.7)\n",
            "Requirement already satisfied: preshed<3.1.0,>=3.0.2 in /usr/local/lib/python3.9/dist-packages (from spacy) (3.0.8)\n",
            "Requirement already satisfied: langcodes<4.0.0,>=3.2.0 in /usr/local/lib/python3.9/dist-packages (from spacy) (3.3.0)\n",
            "Requirement already satisfied: spacy-loggers<2.0.0,>=1.0.0 in /usr/local/lib/python3.9/dist-packages (from spacy) (1.0.4)\n",
            "Requirement already satisfied: pydantic!=1.8,!=1.8.1,<1.11.0,>=1.7.4 in /usr/local/lib/python3.9/dist-packages (from spacy) (1.10.5)\n",
            "Requirement already satisfied: srsly<3.0.0,>=2.4.3 in /usr/local/lib/python3.9/dist-packages (from spacy) (2.4.6)\n",
            "Requirement already satisfied: spacy-legacy<3.1.0,>=3.0.11 in /usr/local/lib/python3.9/dist-packages (from spacy) (3.0.12)\n",
            "Requirement already satisfied: numpy>=1.15.0 in /usr/local/lib/python3.9/dist-packages (from spacy) (1.22.4)\n",
            "Requirement already satisfied: pathy>=0.10.0 in /usr/local/lib/python3.9/dist-packages (from spacy) (0.10.1)\n",
            "Requirement already satisfied: typing-extensions>=4.2.0 in /usr/local/lib/python3.9/dist-packages (from pydantic!=1.8,!=1.8.1,<1.11.0,>=1.7.4->spacy) (4.5.0)\n",
            "Requirement already satisfied: idna<3,>=2.5 in /usr/local/lib/python3.9/dist-packages (from requests<3.0.0,>=2.13.0->spacy) (2.10)\n",
            "Requirement already satisfied: urllib3<1.27,>=1.21.1 in /usr/local/lib/python3.9/dist-packages (from requests<3.0.0,>=2.13.0->spacy) (1.26.14)\n",
            "Requirement already satisfied: certifi>=2017.4.17 in /usr/local/lib/python3.9/dist-packages (from requests<3.0.0,>=2.13.0->spacy) (2022.12.7)\n",
            "Requirement already satisfied: chardet<5,>=3.0.2 in /usr/local/lib/python3.9/dist-packages (from requests<3.0.0,>=2.13.0->spacy) (4.0.0)\n",
            "Requirement already satisfied: confection<1.0.0,>=0.0.1 in /usr/local/lib/python3.9/dist-packages (from thinc<8.2.0,>=8.1.0->spacy) (0.0.4)\n",
            "Requirement already satisfied: blis<0.8.0,>=0.7.8 in /usr/local/lib/python3.9/dist-packages (from thinc<8.2.0,>=8.1.0->spacy) (0.7.9)\n",
            "Requirement already satisfied: click<9.0.0,>=7.1.1 in /usr/local/lib/python3.9/dist-packages (from typer<0.8.0,>=0.3.0->spacy) (8.1.3)\n",
            "Requirement already satisfied: MarkupSafe>=2.0 in /usr/local/lib/python3.9/dist-packages (from jinja2->spacy) (2.1.2)\n",
            "\u001b[33mWARNING: Running pip as the 'root' user can result in broken permissions and conflicting behaviour with the system package manager. It is recommended to use a virtual environment instead: https://pip.pypa.io/warnings/venv\u001b[0m\u001b[33m\n",
            "\u001b[0mLooking in indexes: https://pypi.org/simple, https://us-python.pkg.dev/colab-wheels/public/simple/\n",
            "Requirement already satisfied: transformers in /usr/local/lib/python3.9/dist-packages (4.26.1)\n",
            "Requirement already satisfied: filelock in /usr/local/lib/python3.9/dist-packages (from transformers) (3.9.0)\n",
            "Requirement already satisfied: regex!=2019.12.17 in /usr/local/lib/python3.9/dist-packages (from transformers) (2022.6.2)\n",
            "Requirement already satisfied: requests in /usr/local/lib/python3.9/dist-packages (from transformers) (2.25.1)\n",
            "Requirement already satisfied: tqdm>=4.27 in /usr/local/lib/python3.9/dist-packages (from transformers) (4.65.0)\n",
            "Requirement already satisfied: packaging>=20.0 in /usr/local/lib/python3.9/dist-packages (from transformers) (23.0)\n",
            "Requirement already satisfied: tokenizers!=0.11.3,<0.14,>=0.11.1 in /usr/local/lib/python3.9/dist-packages (from transformers) (0.13.2)\n",
            "Requirement already satisfied: pyyaml>=5.1 in /usr/local/lib/python3.9/dist-packages (from transformers) (6.0)\n",
            "Requirement already satisfied: huggingface-hub<1.0,>=0.11.0 in /usr/local/lib/python3.9/dist-packages (from transformers) (0.13.0)\n",
            "Requirement already satisfied: numpy>=1.17 in /usr/local/lib/python3.9/dist-packages (from transformers) (1.22.4)\n",
            "Requirement already satisfied: typing-extensions>=3.7.4.3 in /usr/local/lib/python3.9/dist-packages (from huggingface-hub<1.0,>=0.11.0->transformers) (4.5.0)\n",
            "Requirement already satisfied: chardet<5,>=3.0.2 in /usr/local/lib/python3.9/dist-packages (from requests->transformers) (4.0.0)\n",
            "Requirement already satisfied: urllib3<1.27,>=1.21.1 in /usr/local/lib/python3.9/dist-packages (from requests->transformers) (1.26.14)\n",
            "Requirement already satisfied: certifi>=2017.4.17 in /usr/local/lib/python3.9/dist-packages (from requests->transformers) (2022.12.7)\n",
            "Requirement already satisfied: idna<3,>=2.5 in /usr/local/lib/python3.9/dist-packages (from requests->transformers) (2.10)\n",
            "\u001b[33mWARNING: Running pip as the 'root' user can result in broken permissions and conflicting behaviour with the system package manager. It is recommended to use a virtual environment instead: https://pip.pypa.io/warnings/venv\u001b[0m\u001b[33m\n",
            "\u001b[0mLooking in indexes: https://pypi.org/simple, https://us-python.pkg.dev/colab-wheels/public/simple/\n",
            "Requirement already satisfied: nltk in /root/.local/lib/python3.9/site-packages (3.8.1)\n",
            "Requirement already satisfied: click in /usr/local/lib/python3.9/dist-packages (from nltk) (8.1.3)\n",
            "Requirement already satisfied: joblib in /usr/local/lib/python3.9/dist-packages (from nltk) (1.2.0)\n",
            "Requirement already satisfied: tqdm in /usr/local/lib/python3.9/dist-packages (from nltk) (4.65.0)\n",
            "Requirement already satisfied: regex>=2021.8.3 in /usr/local/lib/python3.9/dist-packages (from nltk) (2022.6.2)\n",
            "\u001b[33mWARNING: Running pip as the 'root' user can result in broken permissions and conflicting behaviour with the system package manager. It is recommended to use a virtual environment instead: https://pip.pypa.io/warnings/venv\u001b[0m\u001b[33m\n",
            "\u001b[0mLooking in indexes: https://pypi.org/simple, https://us-python.pkg.dev/colab-wheels/public/simple/\n",
            "Requirement already satisfied: pip in /usr/local/lib/python3.9/dist-packages (23.0.1)\n",
            "Requirement already satisfied: setuptools in /usr/local/lib/python3.9/dist-packages (67.6.0)\n",
            "Requirement already satisfied: wheel in /usr/local/lib/python3.9/dist-packages (0.38.4)\n",
            "\u001b[33mWARNING: Running pip as the 'root' user can result in broken permissions and conflicting behaviour with the system package manager. It is recommended to use a virtual environment instead: https://pip.pypa.io/warnings/venv\u001b[0m\u001b[33m\n",
            "\u001b[0mLooking in indexes: https://pypi.org/simple, https://us-python.pkg.dev/colab-wheels/public/simple/\n",
            "Requirement already satisfied: spacy in /usr/local/lib/python3.9/dist-packages (3.5.0)\n",
            "Requirement already satisfied: pathy>=0.10.0 in /usr/local/lib/python3.9/dist-packages (from spacy) (0.10.1)\n",
            "Requirement already satisfied: preshed<3.1.0,>=3.0.2 in /usr/local/lib/python3.9/dist-packages (from spacy) (3.0.8)\n",
            "Requirement already satisfied: cymem<2.1.0,>=2.0.2 in /usr/local/lib/python3.9/dist-packages (from spacy) (2.0.7)\n",
            "Requirement already satisfied: smart-open<7.0.0,>=5.2.1 in /usr/local/lib/python3.9/dist-packages (from spacy) (6.3.0)\n",
            "Requirement already satisfied: setuptools in /usr/local/lib/python3.9/dist-packages (from spacy) (67.6.0)\n",
            "Requirement already satisfied: tqdm<5.0.0,>=4.38.0 in /usr/local/lib/python3.9/dist-packages (from spacy) (4.65.0)\n",
            "Requirement already satisfied: murmurhash<1.1.0,>=0.28.0 in /usr/local/lib/python3.9/dist-packages (from spacy) (1.0.9)\n",
            "Requirement already satisfied: wasabi<1.2.0,>=0.9.1 in /usr/local/lib/python3.9/dist-packages (from spacy) (0.10.1)\n",
            "Requirement already satisfied: packaging>=20.0 in /usr/local/lib/python3.9/dist-packages (from spacy) (23.0)\n",
            "Requirement already satisfied: jinja2 in /usr/local/lib/python3.9/dist-packages (from spacy) (3.1.2)\n",
            "Requirement already satisfied: spacy-loggers<2.0.0,>=1.0.0 in /usr/local/lib/python3.9/dist-packages (from spacy) (1.0.4)\n",
            "Requirement already satisfied: requests<3.0.0,>=2.13.0 in /usr/local/lib/python3.9/dist-packages (from spacy) (2.25.1)\n",
            "Requirement already satisfied: langcodes<4.0.0,>=3.2.0 in /usr/local/lib/python3.9/dist-packages (from spacy) (3.3.0)\n",
            "Requirement already satisfied: typer<0.8.0,>=0.3.0 in /usr/local/lib/python3.9/dist-packages (from spacy) (0.7.0)\n",
            "Requirement already satisfied: thinc<8.2.0,>=8.1.0 in /usr/local/lib/python3.9/dist-packages (from spacy) (8.1.8)\n",
            "Requirement already satisfied: pydantic!=1.8,!=1.8.1,<1.11.0,>=1.7.4 in /usr/local/lib/python3.9/dist-packages (from spacy) (1.10.5)\n",
            "Requirement already satisfied: srsly<3.0.0,>=2.4.3 in /usr/local/lib/python3.9/dist-packages (from spacy) (2.4.6)\n",
            "Requirement already satisfied: numpy>=1.15.0 in /usr/local/lib/python3.9/dist-packages (from spacy) (1.22.4)\n",
            "Requirement already satisfied: catalogue<2.1.0,>=2.0.6 in /usr/local/lib/python3.9/dist-packages (from spacy) (2.0.8)\n",
            "Requirement already satisfied: spacy-legacy<3.1.0,>=3.0.11 in /usr/local/lib/python3.9/dist-packages (from spacy) (3.0.12)\n",
            "Requirement already satisfied: typing-extensions>=4.2.0 in /usr/local/lib/python3.9/dist-packages (from pydantic!=1.8,!=1.8.1,<1.11.0,>=1.7.4->spacy) (4.5.0)\n",
            "Requirement already satisfied: idna<3,>=2.5 in /usr/local/lib/python3.9/dist-packages (from requests<3.0.0,>=2.13.0->spacy) (2.10)\n",
            "Requirement already satisfied: chardet<5,>=3.0.2 in /usr/local/lib/python3.9/dist-packages (from requests<3.0.0,>=2.13.0->spacy) (4.0.0)\n",
            "Requirement already satisfied: certifi>=2017.4.17 in /usr/local/lib/python3.9/dist-packages (from requests<3.0.0,>=2.13.0->spacy) (2022.12.7)\n",
            "Requirement already satisfied: urllib3<1.27,>=1.21.1 in /usr/local/lib/python3.9/dist-packages (from requests<3.0.0,>=2.13.0->spacy) (1.26.14)\n",
            "Requirement already satisfied: confection<1.0.0,>=0.0.1 in /usr/local/lib/python3.9/dist-packages (from thinc<8.2.0,>=8.1.0->spacy) (0.0.4)\n",
            "Requirement already satisfied: blis<0.8.0,>=0.7.8 in /usr/local/lib/python3.9/dist-packages (from thinc<8.2.0,>=8.1.0->spacy) (0.7.9)\n",
            "Requirement already satisfied: click<9.0.0,>=7.1.1 in /usr/local/lib/python3.9/dist-packages (from typer<0.8.0,>=0.3.0->spacy) (8.1.3)\n",
            "Requirement already satisfied: MarkupSafe>=2.0 in /usr/local/lib/python3.9/dist-packages (from jinja2->spacy) (2.1.2)\n",
            "\u001b[33mWARNING: Running pip as the 'root' user can result in broken permissions and conflicting behaviour with the system package manager. It is recommended to use a virtual environment instead: https://pip.pypa.io/warnings/venv\u001b[0m\u001b[33m\n",
            "\u001b[0m"
          ]
        }
      ]
    },
    {
      "cell_type": "markdown",
      "source": [
        "## Imports"
      ],
      "metadata": {
        "id": "zGz6U29LN-9I"
      }
    },
    {
      "cell_type": "code",
      "source": [
        "import spacy\n",
        "from sklearn.preprocessing import MinMaxScaler\n",
        "import numpy as np\n",
        "import pandas as pd\n",
        "import numpy as np\n",
        "import matplotlib.pyplot as plt\n",
        "import seaborn as sns\n",
        "plt.style.use('ggplot')\n",
        "import nltk\n",
        "from transformers import AutoTokenizer\n",
        "from transformers import AutoModelForSequenceClassification\n",
        "from scipy.special import softmax\n",
        "import math\n",
        "import requests\n",
        "from requests import Session\n",
        "from datetime import datetime"
      ],
      "metadata": {
        "id": "EtqHgtprN34N"
      },
      "execution_count": null,
      "outputs": []
    },
    {
      "cell_type": "code",
      "source": [
        "from google.colab import auth\n",
        "auth.authenticate_user()\n",
        "\n",
        "import gspread\n",
        "from google.auth import default\n",
        "creds, _ = default()\n"
      ],
      "metadata": {
        "id": "5BEilPLsRC3v"
      },
      "execution_count": null,
      "outputs": []
    },
    {
      "cell_type": "markdown",
      "source": [
        "## Downloads / Load Models"
      ],
      "metadata": {
        "id": "uz9HWzcuO0Wa"
      }
    },
    {
      "cell_type": "code",
      "source": [
        "\n",
        "# Semantic Analyzer\n",
        "!python -m spacy download en_core_web_lg\n",
        "\n",
        "nlp = spacy.load(\"en_core_web_lg\")\n",
        "\n",
        "# Sentiment Analyzer\n",
        "MODEL = f\"cardiffnlp/twitter-roberta-base-sentiment\"\n",
        "tokenizer = AutoTokenizer.from_pretrained(MODEL)\n",
        "model = AutoModelForSequenceClassification.from_pretrained(MODEL)\n",
        "\n",
        "# Access Token (Hide)\n",
        "access_token = 'xxxxxx'\n",
        "\n",
        "# Temporary Datacenter (Hidden)\n",
        "\n"
      ],
      "metadata": {
        "id": "jzSlAas9PAM6",
        "colab": {
          "base_uri": "https://localhost:8080/"
        },
        "outputId": "c6105ed2-5ce2-4fd5-e1d1-44e8c7fc6617"
      },
      "execution_count": null,
      "outputs": [
        {
          "output_type": "stream",
          "name": "stdout",
          "text": [
            "/usr/local/lib/python3.9/dist-packages/torch/cuda/__init__.py:497: UserWarning: Can't initialize NVML\n",
            "  warnings.warn(\"Can't initialize NVML\")\n",
            "2023-03-09 05:40:52.164089: W tensorflow/compiler/xla/stream_executor/platform/default/dso_loader.cc:64] Could not load dynamic library 'libnvinfer.so.7'; dlerror: libnvinfer.so.7: cannot open shared object file: No such file or directory; LD_LIBRARY_PATH: /usr/local/nvidia/lib:/usr/local/nvidia/lib64\n",
            "2023-03-09 05:40:52.164237: W tensorflow/compiler/xla/stream_executor/platform/default/dso_loader.cc:64] Could not load dynamic library 'libnvinfer_plugin.so.7'; dlerror: libnvinfer_plugin.so.7: cannot open shared object file: No such file or directory; LD_LIBRARY_PATH: /usr/local/nvidia/lib:/usr/local/nvidia/lib64\n",
            "2023-03-09 05:40:52.164262: W tensorflow/compiler/tf2tensorrt/utils/py_utils.cc:38] TF-TRT Warning: Cannot dlopen some TensorRT libraries. If you would like to use Nvidia GPU with TensorRT, please make sure the missing libraries mentioned above are installed properly.\n",
            "2023-03-09 05:40:55.476661: E tensorflow/compiler/xla/stream_executor/cuda/cuda_driver.cc:267] failed call to cuInit: CUDA_ERROR_NO_DEVICE: no CUDA-capable device is detected\n",
            "Looking in indexes: https://pypi.org/simple, https://us-python.pkg.dev/colab-wheels/public/simple/\n",
            "Collecting en-core-web-lg==3.5.0\n",
            "  Downloading https://github.com/explosion/spacy-models/releases/download/en_core_web_lg-3.5.0/en_core_web_lg-3.5.0-py3-none-any.whl (587.7 MB)\n",
            "\u001b[2K     \u001b[90m━━━━━━━━━━━━━━━━━━━━━━━━━━━━━━━━━━━━━━━\u001b[0m \u001b[32m587.7/587.7 MB\u001b[0m \u001b[31m2.3 MB/s\u001b[0m eta \u001b[36m0:00:00\u001b[0m\n",
            "\u001b[?25hRequirement already satisfied: spacy<3.6.0,>=3.5.0 in /usr/local/lib/python3.9/dist-packages (from en-core-web-lg==3.5.0) (3.5.0)\n",
            "Requirement already satisfied: smart-open<7.0.0,>=5.2.1 in /usr/local/lib/python3.9/dist-packages (from spacy<3.6.0,>=3.5.0->en-core-web-lg==3.5.0) (6.3.0)\n",
            "Requirement already satisfied: numpy>=1.15.0 in /usr/local/lib/python3.9/dist-packages (from spacy<3.6.0,>=3.5.0->en-core-web-lg==3.5.0) (1.22.4)\n",
            "Requirement already satisfied: pathy>=0.10.0 in /usr/local/lib/python3.9/dist-packages (from spacy<3.6.0,>=3.5.0->en-core-web-lg==3.5.0) (0.10.1)\n",
            "Requirement already satisfied: spacy-legacy<3.1.0,>=3.0.11 in /usr/local/lib/python3.9/dist-packages (from spacy<3.6.0,>=3.5.0->en-core-web-lg==3.5.0) (3.0.12)\n",
            "Requirement already satisfied: thinc<8.2.0,>=8.1.0 in /usr/local/lib/python3.9/dist-packages (from spacy<3.6.0,>=3.5.0->en-core-web-lg==3.5.0) (8.1.8)\n",
            "Requirement already satisfied: setuptools in /usr/local/lib/python3.9/dist-packages (from spacy<3.6.0,>=3.5.0->en-core-web-lg==3.5.0) (67.6.0)\n",
            "Requirement already satisfied: wasabi<1.2.0,>=0.9.1 in /usr/local/lib/python3.9/dist-packages (from spacy<3.6.0,>=3.5.0->en-core-web-lg==3.5.0) (0.10.1)\n",
            "Requirement already satisfied: requests<3.0.0,>=2.13.0 in /usr/local/lib/python3.9/dist-packages (from spacy<3.6.0,>=3.5.0->en-core-web-lg==3.5.0) (2.25.1)\n",
            "Requirement already satisfied: typer<0.8.0,>=0.3.0 in /usr/local/lib/python3.9/dist-packages (from spacy<3.6.0,>=3.5.0->en-core-web-lg==3.5.0) (0.7.0)\n",
            "Requirement already satisfied: langcodes<4.0.0,>=3.2.0 in /usr/local/lib/python3.9/dist-packages (from spacy<3.6.0,>=3.5.0->en-core-web-lg==3.5.0) (3.3.0)\n",
            "Requirement already satisfied: jinja2 in /usr/local/lib/python3.9/dist-packages (from spacy<3.6.0,>=3.5.0->en-core-web-lg==3.5.0) (3.1.2)\n",
            "Requirement already satisfied: cymem<2.1.0,>=2.0.2 in /usr/local/lib/python3.9/dist-packages (from spacy<3.6.0,>=3.5.0->en-core-web-lg==3.5.0) (2.0.7)\n",
            "Requirement already satisfied: packaging>=20.0 in /usr/local/lib/python3.9/dist-packages (from spacy<3.6.0,>=3.5.0->en-core-web-lg==3.5.0) (23.0)\n",
            "Requirement already satisfied: srsly<3.0.0,>=2.4.3 in /usr/local/lib/python3.9/dist-packages (from spacy<3.6.0,>=3.5.0->en-core-web-lg==3.5.0) (2.4.6)\n",
            "Requirement already satisfied: pydantic!=1.8,!=1.8.1,<1.11.0,>=1.7.4 in /usr/local/lib/python3.9/dist-packages (from spacy<3.6.0,>=3.5.0->en-core-web-lg==3.5.0) (1.10.5)\n",
            "Requirement already satisfied: catalogue<2.1.0,>=2.0.6 in /usr/local/lib/python3.9/dist-packages (from spacy<3.6.0,>=3.5.0->en-core-web-lg==3.5.0) (2.0.8)\n",
            "Requirement already satisfied: tqdm<5.0.0,>=4.38.0 in /usr/local/lib/python3.9/dist-packages (from spacy<3.6.0,>=3.5.0->en-core-web-lg==3.5.0) (4.65.0)\n",
            "Requirement already satisfied: preshed<3.1.0,>=3.0.2 in /usr/local/lib/python3.9/dist-packages (from spacy<3.6.0,>=3.5.0->en-core-web-lg==3.5.0) (3.0.8)\n",
            "Requirement already satisfied: murmurhash<1.1.0,>=0.28.0 in /usr/local/lib/python3.9/dist-packages (from spacy<3.6.0,>=3.5.0->en-core-web-lg==3.5.0) (1.0.9)\n",
            "Requirement already satisfied: spacy-loggers<2.0.0,>=1.0.0 in /usr/local/lib/python3.9/dist-packages (from spacy<3.6.0,>=3.5.0->en-core-web-lg==3.5.0) (1.0.4)\n",
            "Requirement already satisfied: typing-extensions>=4.2.0 in /usr/local/lib/python3.9/dist-packages (from pydantic!=1.8,!=1.8.1,<1.11.0,>=1.7.4->spacy<3.6.0,>=3.5.0->en-core-web-lg==3.5.0) (4.5.0)\n",
            "Requirement already satisfied: chardet<5,>=3.0.2 in /usr/local/lib/python3.9/dist-packages (from requests<3.0.0,>=2.13.0->spacy<3.6.0,>=3.5.0->en-core-web-lg==3.5.0) (4.0.0)\n",
            "Requirement already satisfied: certifi>=2017.4.17 in /usr/local/lib/python3.9/dist-packages (from requests<3.0.0,>=2.13.0->spacy<3.6.0,>=3.5.0->en-core-web-lg==3.5.0) (2022.12.7)\n",
            "Requirement already satisfied: urllib3<1.27,>=1.21.1 in /usr/local/lib/python3.9/dist-packages (from requests<3.0.0,>=2.13.0->spacy<3.6.0,>=3.5.0->en-core-web-lg==3.5.0) (1.26.14)\n",
            "Requirement already satisfied: idna<3,>=2.5 in /usr/local/lib/python3.9/dist-packages (from requests<3.0.0,>=2.13.0->spacy<3.6.0,>=3.5.0->en-core-web-lg==3.5.0) (2.10)\n",
            "Requirement already satisfied: confection<1.0.0,>=0.0.1 in /usr/local/lib/python3.9/dist-packages (from thinc<8.2.0,>=8.1.0->spacy<3.6.0,>=3.5.0->en-core-web-lg==3.5.0) (0.0.4)\n",
            "Requirement already satisfied: blis<0.8.0,>=0.7.8 in /usr/local/lib/python3.9/dist-packages (from thinc<8.2.0,>=8.1.0->spacy<3.6.0,>=3.5.0->en-core-web-lg==3.5.0) (0.7.9)\n",
            "Requirement already satisfied: click<9.0.0,>=7.1.1 in /usr/local/lib/python3.9/dist-packages (from typer<0.8.0,>=0.3.0->spacy<3.6.0,>=3.5.0->en-core-web-lg==3.5.0) (8.1.3)\n",
            "Requirement already satisfied: MarkupSafe>=2.0 in /usr/local/lib/python3.9/dist-packages (from jinja2->spacy<3.6.0,>=3.5.0->en-core-web-lg==3.5.0) (2.1.2)\n",
            "\u001b[33mWARNING: Running pip as the 'root' user can result in broken permissions and conflicting behaviour with the system package manager. It is recommended to use a virtual environment instead: https://pip.pypa.io/warnings/venv\u001b[0m\u001b[33m\n",
            "\u001b[0m\u001b[38;5;2m✔ Download and installation successful\u001b[0m\n",
            "You can now load the package via spacy.load('en_core_web_lg')\n"
          ]
        }
      ]
    },
    {
      "cell_type": "markdown",
      "source": [
        "# Methods"
      ],
      "metadata": {
        "id": "cD-3AuSpPaXP"
      }
    },
    {
      "cell_type": "markdown",
      "source": [
        "## Comments Analyzer Methods"
      ],
      "metadata": {
        "id": "lTqhzncTPo1Q"
      }
    },
    {
      "cell_type": "code",
      "source": [
        "# Returns a sentiment score from 0-1\n",
        "\n",
        "def sentiment_score(example):\n",
        "    encoded_text = tokenizer(example, return_tensors='pt')\n",
        "    output = model(**encoded_text)\n",
        "    scores = output[0][0].detach().numpy()\n",
        "    scores = softmax(scores)\n",
        "    scores_dict = {\n",
        "        'roberta_neg' : scores[0],\n",
        "        'roberta_neu' : scores[1],\n",
        "        'roberta_pos' : scores[2]\n",
        "    }\n",
        "    return scores_dict"
      ],
      "metadata": {
        "id": "Y_LMkOjaPcif"
      },
      "execution_count": null,
      "outputs": []
    },
    {
      "cell_type": "code",
      "source": [
        "# Returns a semantic similiarty score from 0-1\n",
        "# [pos, nuetral, negative]\n",
        "\n",
        "def semantic_score(example):\n",
        "\n",
        "  test_sentence = nlp(example)\n",
        "\n",
        "  s1 = nlp('I love your product, please come speak at our conference')\n",
        "  s2 = nlp('I sorta want your product, you are good at speaking')\n",
        "  s3 = nlp('I hate your product, you suck at speaking')\n",
        "\n",
        "  l = [s1.similarity(test_sentence), s2.similarity(test_sentence), s3.similarity(test_sentence)]\n",
        "  scaled_l = [0, 0 ,0]\n",
        "  for i in range(len(l)):\n",
        "    scaled_l[i] = ((l[i] - min(l)) / (max(l) - min(l)))*((max(l) - min(l))+min(l))\n",
        "\n",
        "  return scaled_l\n",
        "\n"
      ],
      "metadata": {
        "id": "2WEhB9rJPeL6"
      },
      "execution_count": null,
      "outputs": []
    },
    {
      "cell_type": "code",
      "source": [
        "# Returns as a score from 0-1, if its the longest comment on a post\n",
        "def length_score(example):\n",
        "  return len(example.split())\n",
        "\n",
        "def maxlength_score(example, max_length):\n",
        "\n",
        "  return len(example.split())/max_length"
      ],
      "metadata": {
        "id": "zvwbjP65PgMq"
      },
      "execution_count": null,
      "outputs": []
    },
    {
      "cell_type": "code",
      "source": [
        "# Returns # of '!' and '?' all in one value\n",
        "\n",
        "def punctuation_score(example):\n",
        "  count = 0\n",
        "  for i in range(len(example)):\n",
        "    if example[i] == '!' or example[i] == '?' :\n",
        "      count+=1\n",
        "\n",
        "  return count"
      ],
      "metadata": {
        "id": "2Ta5AexTPhkK"
      },
      "execution_count": null,
      "outputs": []
    },
    {
      "cell_type": "code",
      "source": [
        "def final_comment_score(example):\n",
        "\n",
        "  number_char = float(len(example))\n",
        "  number_words = float(length_score(example))\n",
        "  punc_score = float(punctuation_score(example))\n",
        "\n",
        "\n",
        "  sent_score = sentiment_score(example)\n",
        "  sem_score = semantic_score(example)\n",
        "\n",
        "  #print(number_char, number_words, punc_score, sent_score, sem_score)\n",
        "  return (punc_score*number_words)/(number_char - number_words) * ((sent_score['roberta_pos'] - sent_score['roberta_neg'])/(abs(sent_score['roberta_pos'] - sent_score['roberta_neg']))) + sem_score[0] - sem_score[2]"
      ],
      "metadata": {
        "id": "FSnVkwGqPkQ3"
      },
      "execution_count": null,
      "outputs": []
    },
    {
      "cell_type": "markdown",
      "source": [
        "## Job Analyzer"
      ],
      "metadata": {
        "id": "-2-BLuxYPryV"
      }
    },
    {
      "cell_type": "code",
      "source": [
        "def job_title_score(example):\n",
        "   with open('/content/drive/MyDrive/LinkedInScraper/Dataset/job_title_levels.txt') as f:\n",
        "    lines = list(f.readlines())\n",
        "    highest_title = lines[-1]\n",
        "    specific_title = \"Employee\"\n",
        "    nouns = []\n",
        "    cleaned_example = nlp(removeSpecialCharacter(example))\n",
        "    for token in cleaned_example:\n",
        "        if token.pos_ == 'NOUN' or token.pos_ == 'PROPN':\n",
        "          nouns.append(token.text)\n",
        "    #print(nouns)\n",
        "    for n in nouns:\n",
        "      max_score = 0\n",
        "      title = ''\n",
        "      for l in lines:\n",
        "        if n.lower() in l.lower():\n",
        "          title = l\n",
        "          specific_title = n\n",
        "      try:\n",
        "        if lines.index(title) < abs(lines.index(highest_title)):\n",
        "          highest_title = title\n",
        "          specific_title = n\n",
        "      except:\n",
        "        print(\"\", end=\"\")\n",
        "    #print(highest_title)\n",
        "    return (len(lines) - lines.index(highest_title))/len(lines), specific_title"
      ],
      "metadata": {
        "id": "3yt4NSNxPniM"
      },
      "execution_count": null,
      "outputs": []
    },
    {
      "cell_type": "code",
      "source": [
        "def removeSpecialCharacter(s):\n",
        "  characters= '@_!#$%^&*()<>?/\\|}{~:]-.'\n",
        "  a = s\n",
        "  for i in characters:\n",
        "    a = a.replace(i, \" \")\n",
        "  return a"
      ],
      "metadata": {
        "id": "xiS8-VgIS4u6"
      },
      "execution_count": null,
      "outputs": []
    },
    {
      "cell_type": "markdown",
      "source": [
        "## LinkedIn API Methods"
      ],
      "metadata": {
        "id": "xmlAFhCpPwYR"
      }
    },
    {
      "cell_type": "code",
      "source": [
        "def get_person_data(user_id):\n",
        "  url = f'https://api.linkedin.com/v2/people/(id:{user_id})'\n",
        "  headers = {'Authorization' : f'Bearer {access_token}',  'LinkedIn-Version' : '202302', 'X-RestLi-Protocol-Version':'2.0.0'}\n",
        "  user = requests.get(url, headers=headers)\n",
        "  return user.json()\n"
      ],
      "metadata": {
        "id": "TZNzuqNeQKLr"
      },
      "execution_count": null,
      "outputs": []
    },
    {
      "cell_type": "code",
      "source": [
        "def get_commented_user(share):\n",
        "  url = f'https://api.linkedin.com/rest/socialActions/{share}/comments?projection=(elements(*(*,actor~(*,profilePicture(displayImage~:playableStreams)))))'\n",
        "  header = {'Authorization' : f'Bearer {access_token}',  'LinkedIn-Version' : '202301'}\n",
        "\n",
        "  r = requests.get(url, headers=header)\n",
        "  return r.json()"
      ],
      "metadata": {
        "id": "6hJsbvTDQRPB"
      },
      "execution_count": null,
      "outputs": []
    },
    {
      "cell_type": "code",
      "source": [
        "\n",
        "def get_user(user_id):\n",
        "  url = f'https://api.linkedin.com/v2/people/(id:{user_id})?projection=(id,localizedFirstName,localizedLastName)'\n",
        "  headers = {'Authorization' : f'Bearer {access_token}',  'LinkedIn-Version' : '202302', 'X-RestLi-Protocol-Version':'2.0.0'}\n",
        "\n",
        "  user = requests.get(url, headers=headers)\n",
        "  return user.json()\n"
      ],
      "metadata": {
        "id": "Y2MLQnZjQSpY"
      },
      "execution_count": null,
      "outputs": []
    },
    {
      "cell_type": "code",
      "source": [
        "def get_posts(org_urn):\n",
        "  posts_url = f'https://api.linkedin.com/v2/shares?q=owners&owners={org_urn}&sortBy=LAST_MODIFIED&sharesPerOwner=10'\n",
        "  url = f'https://api.linkedin.com/rest/posts?author={encode_tag(org_urn)}&q=author&count=10'\n",
        "  headers = {'Authorization' : f'Bearer {access_token}',  'LinkedIn-Version' : '202302', 'X-RestLi-Protocol-Version':'2.0.0', 'X-RestLi-Method' :'FINDER'}\n",
        "  posts = requests.get(url, headers=headers)\n",
        "  return posts.json()\n",
        "\n"
      ],
      "metadata": {
        "id": "fnK1dW5wQU9l"
      },
      "execution_count": null,
      "outputs": []
    },
    {
      "cell_type": "code",
      "source": [
        "def get_comments(urn):\n",
        "\n",
        "  comment_url = f'https://api.linkedin.com/rest/socialActions/{urn}/comments'\n",
        "  headers = {'Authorization' : f'Bearer {access_token}',  'LinkedIn-Version' : '202302'}\n",
        "\n",
        "  comments = requests.get(comment_url, headers=headers)\n",
        "  return comments.json()\n",
        "\n"
      ],
      "metadata": {
        "id": "Y4KJnf2cQWB4"
      },
      "execution_count": null,
      "outputs": []
    },
    {
      "cell_type": "code",
      "source": [
        "def get_replies(urnComments):\n",
        "  replies_url = f'https://api.linkedin.com/rest/socialActions/{urnComments}/comments'\n",
        "  replies = requests.get(replies_url, headers=headers)\n",
        "  headers = {'Authorization' : f'Bearer {access_token}',  'LinkedIn-Version' : '202302'}\n",
        "\n",
        "  return replies.json()\n"
      ],
      "metadata": {
        "id": "jI7IyYegQXBg"
      },
      "execution_count": null,
      "outputs": []
    },
    {
      "cell_type": "code",
      "source": [
        "def encode_tag(tag):\n",
        "\n",
        "  return tag.replace(':', '%3A')"
      ],
      "metadata": {
        "id": "KqBihVtBQZlt"
      },
      "execution_count": null,
      "outputs": []
    },
    {
      "cell_type": "code",
      "source": [
        "#name_id is id of person or org, data_type is the type of data you want inserted into the datacenter, and data is the data you want to insert\n",
        "#data can be either a list of datapoints or singular datapoints\n",
        "def change_data(datacenter, name_id, data_type, new_data):\n",
        "\n",
        "  if not name_id in list(datacenter.keys()):\n",
        "    data_points = {'id' : '', 'id_type' : '','name' : '', 'vanity_name' : '', 'job' : '', 'location' : '', 'comment_history': [], 'number_of_comments' : 0, 'number_of_reactions' : 0, 'head_line' : '', 'number_of_likes' : 0}\n",
        "    datacenter.update({name_id : data_points})\n",
        "\n",
        "  if len(data_type) > 1:\n",
        "    for i in range(len(data_type)):\n",
        "          datacenter[name_id][data_type[i]] = new_data[i]\n",
        "\n",
        "  else:\n",
        "      datacenter[name_id][data_type[0]] = new_data\n",
        "\n",
        "\n",
        "\n"
      ],
      "metadata": {
        "id": "GFZM8wyDQa3S"
      },
      "execution_count": null,
      "outputs": []
    },
    {
      "cell_type": "code",
      "source": [
        "from logging import exception\n",
        "def getCommentData(datacenter, comments):\n",
        "\n",
        "      print(comments)\n",
        "      for com in comments['elements']:\n",
        "          print(com)\n",
        "          id_type = ''\n",
        "          # person or orginization\n",
        "          if com['actor'][7:13] == 'person':\n",
        "              name_id = com['actor'][-10:]\n",
        "              id_type = 'person'\n",
        "          else:\n",
        "              name_id = com['actor'][-8:]\n",
        "              id_type = 'orginization'\n",
        "              continue\n",
        "\n",
        "          if not name_id in list(datacenter.keys()):\n",
        "            try:\n",
        "              data_points = {'id' : '', 'id_type' : '','name' : '', 'vanity_name' : '', 'job' : '', 'location' : '', 'comment_history': [], 'number_of_comments' : 0, 'number_of_reactions' : 0, 'head_line' : '', 'number_of_likes' : 0}\n",
        "              datacenter.update({name_id : data_points})\n",
        "\n",
        "              datacenter[name_id]['id'] = name_id\n",
        "              datacenter[name_id]['id_type'] = id_type\n",
        "\n",
        "              user = get_person_data(name_id)\n",
        "              print(user)\n",
        "              datacenter[name_id]['name'] = user['firstName']['localized']['en_US'] + \" \" + user['localizedLastName']\n",
        "              datacenter[name_id]['head_line'] = user['localizedHeadline']\n",
        "              datacenter[name_id]['vanity_name'] = user['vanityName']\n",
        "              job_score, job_title = job_title_score(datacenter[name_id]['head_line'])\n",
        "              datacenter[name_id]['job'] = job_title\n",
        "            except:\n",
        "              print(exception)\n",
        "\n",
        "          #Assuming person commented and has already been insterted into datacenter:\n",
        "\n",
        "          datacenter[name_id]['number_of_comments'] += 1\n",
        "          datacenter[name_id]['number_of_reactions'] += 1\n",
        "\n",
        "          datacenter[name_id]['comment_history'].append(com['message']['text'])\n",
        ""
      ],
      "metadata": {
        "id": "0KzUENIbccUy"
      },
      "execution_count": null,
      "outputs": []
    },
    {
      "cell_type": "code",
      "source": [
        "def getPostData(datacenter, org_urn):\n",
        "  posts = get_posts(org_urn)\n",
        "  i = 0\n",
        "  for e in posts['elements']:\n",
        "\n",
        "    print(\"Post \", i)\n",
        "    i+=1\n",
        "    comment_urn = e['id']\n",
        "    #time_stamp = e['lastModified']\n",
        "    if 'ugcPost' in comment_urn or 'share' in comment_urn:\n",
        "        comments = get_comments(comment_urn)\n",
        "        getCommentData(datacenter, comments)\n",
        "\n"
      ],
      "metadata": {
        "id": "pEfwxFAAQlI2"
      },
      "execution_count": null,
      "outputs": []
    },
    {
      "cell_type": "code",
      "source": [
        "def average_score_comments(comment_history):\n",
        "  history_length = len(comment_history)\n",
        "  score_sum = 0\n",
        "  for comment in comment_history:\n",
        "    score_sum += final_comment_score(comment)\n",
        "\n",
        "  return score_sum/history_length\n",
        "\n",
        "\n"
      ],
      "metadata": {
        "id": "QD9AuraBQoIw"
      },
      "execution_count": null,
      "outputs": []
    },
    {
      "cell_type": "code",
      "source": [
        "def final_score(user_number_of_comments, job_title_score, average_comment_interest_score):\n",
        "  #print(user_number_of_comments, job_title_score, average_comment_interest_score)\n",
        "  return ((1+(user_number_of_comments/10) + job_title_score**2)**(average_comment_interest_score))\n"
      ],
      "metadata": {
        "id": "78By4VslQpJw"
      },
      "execution_count": null,
      "outputs": []
    },
    {
      "cell_type": "code",
      "source": [
        "class User():\n",
        "\n",
        "  def __init__(self, user_tag = '', user_data=None, user_criteria_scores=None):\n",
        "    self.user_tag = user_tag\n",
        "    self.user_data=user_data\n",
        "    self.vanity_name = user_data['vanity_name']\n",
        "    self.name = user_data['name']\n",
        "    self.job = user_data['job']\n",
        "    self.user_criteria_scores=user_criteria_scores\n"
      ],
      "metadata": {
        "id": "G0VJ3bYpQqWL"
      },
      "execution_count": null,
      "outputs": []
    },
    {
      "cell_type": "code",
      "source": [
        "def return_sorted_users(datacenter):\n",
        "  users = list(datacenter.keys())\n",
        "\n",
        "  user_list = []\n",
        "\n",
        "  for user in users:\n",
        "    user_data = datacenter[user]\n",
        "    user_comment_history = user_data['comment_history']\n",
        "    user_tag = user_data['head_line']\n",
        "    user_number_of_comments = user_data['number_of_comments']\n",
        "\n",
        "\n",
        "    job_score, job_title = job_title_score(user_tag)\n",
        "    average_comment_interest_score = average_score_comments(comment_history=user_comment_history)\n",
        "    score = final_score(user_number_of_comments, job_score, average_comment_interest_score)\n",
        "\n",
        "    new_user = User(user_tag, user_data, user_criteria_scores=score)\n",
        "    user_list.append(new_user)\n",
        "\n",
        "  return sorted(user_list, key= lambda x : 1/x.user_criteria_scores)"
      ],
      "metadata": {
        "id": "MNS5av4nQwgI"
      },
      "execution_count": null,
      "outputs": []
    },
    {
      "cell_type": "code",
      "source": [
        "def upload_data_gs(creds, link, sorted_users_data):\n",
        "\n",
        "\n",
        "  gc = gspread.authorize(creds)\n",
        "  #sh = gc.create('/content/drive/MyDrive/LinkedInScraper/Dataset/UserData_Always_Empty_When_Not_Running/test_data')\n",
        "\n",
        "  # Open our new sheet and add some data.\n",
        "  worksheet = gc.open(link).sheet1\n",
        "  sorted_users= sorted_users_data\n",
        "\n",
        "\n",
        "  #worksheet.clear()\n",
        "\n",
        "  #Name, Vanity Name for LinkedIn, Occupation/Title, Interest Score, LinkedIn profile link\n",
        "  for index in range(len(sorted_users)):\n",
        "    data = sorted_users[index]\n",
        "    index_id = f'A{index+1}:E{index+1}'\n",
        "    cell_list = worksheet.range(index_id)\n",
        "\n",
        "    input_data = [str(data.name), str(data.vanity_name), str(data.job), str(data.user_criteria_scores), f\"https://www.linkedin.com/in/{str(data.vanity_name)}/\"]\n",
        "    for i in range(len(cell_list)):\n",
        "      cell_list[i].value = input_data[i]\n",
        "    worksheet.update_cells(cell_list)\n",
        "\n",
        "  #worksheet.clear()"
      ],
      "metadata": {
        "id": "v7yxfWtJRG1H"
      },
      "execution_count": null,
      "outputs": []
    },
    {
      "cell_type": "markdown",
      "source": [
        "# Run"
      ],
      "metadata": {
        "id": "5WJQGnrGRsxK"
      }
    },
    {
      "cell_type": "code",
      "source": [
        "datacenter = dict()\n",
        "\n",
        "org_urn = 'urn:li:organization:90442007'\n",
        "\n",
        "link = '/content/drive/MyDrive/LinkedInScraper/Dataset/UserData_Always_Empty_When_Not_Running/test_data'\n",
        "\n",
        "\n",
        "# Gets Post Data and uploads it to datacenter\n",
        "getPostData(datacenter, org_urn)\n",
        "\n",
        "# Sorts data in datacenter based on several inputted criteria\n",
        "sorted_users = return_sorted_users(datacenter)\n",
        "\n",
        "# Temporarly Uploads to google sheets for viewing.\n",
        "upload_data_gs(creds, link, sorted_users)\n"
      ],
      "metadata": {
        "id": "ShIZqtxlRw7k",
        "colab": {
          "base_uri": "https://localhost:8080/"
        },
        "outputId": "aedc8456-8a20-4e7a-875f-b3cb2d96b397"
      },
      "execution_count": null,
      "outputs": [
        {
          "output_type": "stream",
          "name": "stdout",
          "text": [
            "Post  0\n",
            "{'paging': {'start': 0, 'count': 10, 'links': [{'type': 'application/json', 'rel': 'next', 'href': '/rest/socialActions/urn:li:share:7029714598974955520/comments?count=10&start=10'}], 'total': 13}, 'elements': [{'actor': 'urn:li:person:TI2s7kHbUp', 'created': {'actor': 'urn:li:person:TI2s7kHbUp', 'time': 1677912570746}, 'lastModified': {'actor': 'urn:li:person:TI2s7kHbUp', 'time': 1677912570746}, 'id': '7037675407130714112', '$URN': 'urn:li:comment:(urn:li:activity:7029714599629262848,7037675407130714112)', 'message': {'attributes': [], 'text': 'Wow I wont this product right NOW!!!!!!!!!'}, 'object': 'urn:li:activity:7029714599629262848'}, {'actor': 'urn:li:person:xqJMgbc0zf', 'created': {'actor': 'urn:li:person:xqJMgbc0zf', 'time': 1677830204829}, 'lastModified': {'actor': 'urn:li:person:xqJMgbc0zf', 'time': 1677830204829}, 'id': '7037329939435573248', '$URN': 'urn:li:comment:(urn:li:activity:7029714599629262848,7037329939435573248)', 'message': {'attributes': [], 'text': 'super cool post!'}, 'object': 'urn:li:activity:7029714599629262848'}, {'actor': 'urn:li:person:xqJMgbc0zf', 'created': {'actor': 'urn:li:person:xqJMgbc0zf', 'time': 1677830177867}, 'lastModified': {'actor': 'urn:li:person:xqJMgbc0zf', 'time': 1677830177867}, 'id': '7037329826348748801', '$URN': 'urn:li:comment:(urn:li:activity:7029714599629262848,7037329826348748801)', 'message': {'attributes': [], 'text': 'this is super interesting!'}, 'object': 'urn:li:activity:7029714599629262848'}, {'actor': 'urn:li:person:xqJMgbc0zf', 'created': {'actor': 'urn:li:person:xqJMgbc0zf', 'time': 1677830168419}, 'lastModified': {'actor': 'urn:li:person:xqJMgbc0zf', 'time': 1677830168419}, 'id': '7037329786716774400', '$URN': 'urn:li:comment:(urn:li:activity:7029714599629262848,7037329786716774400)', 'message': {'attributes': [], 'text': 'i want this product!'}, 'object': 'urn:li:activity:7029714599629262848'}, {'actor': 'urn:li:person:xqJMgbc0zf', 'created': {'actor': 'urn:li:person:xqJMgbc0zf', 'time': 1677830129535}, 'lastModified': {'actor': 'urn:li:person:xqJMgbc0zf', 'time': 1677830129535}, 'id': '7037329623625453568', '$URN': 'urn:li:comment:(urn:li:activity:7029714599629262848,7037329623625453568)', 'message': {'attributes': [], 'text': 'what kinda name is Hove'}, 'object': 'urn:li:activity:7029714599629262848'}, {'actor': 'urn:li:person:xqJMgbc0zf', 'created': {'actor': 'urn:li:person:xqJMgbc0zf', 'time': 1677830112972}, 'lastModified': {'actor': 'urn:li:person:xqJMgbc0zf', 'time': 1677830112972}, 'id': '7037329554155208704', '$URN': 'urn:li:comment:(urn:li:activity:7029714599629262848,7037329554155208704)', 'message': {'attributes': [], 'text': 'you’re literally a genius'}, 'object': 'urn:li:activity:7029714599629262848'}, {'actor': 'urn:li:person:xqJMgbc0zf', 'created': {'actor': 'urn:li:person:xqJMgbc0zf', 'time': 1677830101200}, 'lastModified': {'actor': 'urn:li:person:xqJMgbc0zf', 'time': 1677830101200}, 'id': '7037329504779845632', '$URN': 'urn:li:comment:(urn:li:activity:7029714599629262848,7037329504779845632)', 'message': {'attributes': [], 'text': 'wait do these comments show up on my profile'}, 'object': 'urn:li:activity:7029714599629262848'}, {'actor': 'urn:li:person:xqJMgbc0zf', 'created': {'actor': 'urn:li:person:xqJMgbc0zf', 'time': 1677830092140}, 'lastModified': {'actor': 'urn:li:person:xqJMgbc0zf', 'time': 1677830092140}, 'id': '7037329466779467777', '$URN': 'urn:li:comment:(urn:li:activity:7029714599629262848,7037329466779467777)', 'message': {'attributes': [], 'text': 'my wife left me yesterday'}, 'object': 'urn:li:activity:7029714599629262848'}, {'actor': 'urn:li:person:xqJMgbc0zf', 'created': {'actor': 'urn:li:person:xqJMgbc0zf', 'time': 1677830085142}, 'lastModified': {'actor': 'urn:li:person:xqJMgbc0zf', 'time': 1677830085142}, 'id': '7037329437427699712', '$URN': 'urn:li:comment:(urn:li:activity:7029714599629262848,7037329437427699712)', 'message': {'attributes': [], 'text': 'this is really cool'}, 'object': 'urn:li:activity:7029714599629262848'}, {'actor': 'urn:li:organization:90442007', 'created': {'actor': 'urn:li:organization:90442007', 'impersonator': 'urn:li:person:TI2s7kHbUp', 'time': 1676842913958}, 'lastModified': {'actor': 'urn:li:organization:90442007', 'impersonator': 'urn:li:person:TI2s7kHbUp', 'time': 1676842913958}, 'id': '7033188941381988352', '$URN': 'urn:li:comment:(urn:li:activity:7029714599629262848,7033188941381988352)', 'message': {'attributes': [], 'text': 'Wow amazing\\n'}, 'object': 'urn:li:activity:7029714599629262848'}]}\n",
            "{'actor': 'urn:li:person:TI2s7kHbUp', 'created': {'actor': 'urn:li:person:TI2s7kHbUp', 'time': 1677912570746}, 'lastModified': {'actor': 'urn:li:person:TI2s7kHbUp', 'time': 1677912570746}, 'id': '7037675407130714112', '$URN': 'urn:li:comment:(urn:li:activity:7029714599629262848,7037675407130714112)', 'message': {'attributes': [], 'text': 'Wow I wont this product right NOW!!!!!!!!!'}, 'object': 'urn:li:activity:7029714599629262848'}\n",
            "{'localizedLastName': 'Miller', 'profilePicture': {'displayImage': 'urn:li:digitalmediaAsset:D4D03AQGUKilOHi8Iqw'}, 'firstName': {'localized': {'en_US': 'Nir'}, 'preferredLocale': {'country': 'US', 'language': 'en'}}, 'vanityName': 'nir-miller-0600481b1', 'lastName': {'localized': {'en_US': 'Miller'}, 'preferredLocale': {'country': 'US', 'language': 'en'}}, 'localizedHeadline': 'Computer Science Tutor | UT Austin Computational Physics', 'id': 'TI2s7kHbUp', 'headline': {'localized': {'en_US': 'Computer Science Tutor | UT Austin Computational Physics'}, 'preferredLocale': {'country': 'US', 'language': 'en'}}, 'localizedFirstName': 'Nir'}\n",
            "{'actor': 'urn:li:person:xqJMgbc0zf', 'created': {'actor': 'urn:li:person:xqJMgbc0zf', 'time': 1677830204829}, 'lastModified': {'actor': 'urn:li:person:xqJMgbc0zf', 'time': 1677830204829}, 'id': '7037329939435573248', '$URN': 'urn:li:comment:(urn:li:activity:7029714599629262848,7037329939435573248)', 'message': {'attributes': [], 'text': 'super cool post!'}, 'object': 'urn:li:activity:7029714599629262848'}\n",
            "{'localizedLastName': 'Chu', 'profilePicture': {'displayImage': 'urn:li:digitalmediaAsset:C4D03AQFoIcTQUrY46w'}, 'firstName': {'localized': {'en_US': 'Natalee'}, 'preferredLocale': {'country': 'US', 'language': 'en'}}, 'vanityName': 'nataleechu', 'lastName': {'localized': {'en_US': 'Chu'}, 'preferredLocale': {'country': 'US', 'language': 'en'}}, 'localizedHeadline': 'Statefarm Information Security Intern | UT Austin Computer Science', 'id': 'xqJMgbc0zf', 'headline': {'localized': {'en_US': 'Statefarm Information Security Intern | UT Austin Computer Science'}, 'preferredLocale': {'country': 'US', 'language': 'en'}}, 'localizedFirstName': 'Natalee'}\n",
            "{'actor': 'urn:li:person:xqJMgbc0zf', 'created': {'actor': 'urn:li:person:xqJMgbc0zf', 'time': 1677830177867}, 'lastModified': {'actor': 'urn:li:person:xqJMgbc0zf', 'time': 1677830177867}, 'id': '7037329826348748801', '$URN': 'urn:li:comment:(urn:li:activity:7029714599629262848,7037329826348748801)', 'message': {'attributes': [], 'text': 'this is super interesting!'}, 'object': 'urn:li:activity:7029714599629262848'}\n",
            "{'actor': 'urn:li:person:xqJMgbc0zf', 'created': {'actor': 'urn:li:person:xqJMgbc0zf', 'time': 1677830168419}, 'lastModified': {'actor': 'urn:li:person:xqJMgbc0zf', 'time': 1677830168419}, 'id': '7037329786716774400', '$URN': 'urn:li:comment:(urn:li:activity:7029714599629262848,7037329786716774400)', 'message': {'attributes': [], 'text': 'i want this product!'}, 'object': 'urn:li:activity:7029714599629262848'}\n",
            "{'actor': 'urn:li:person:xqJMgbc0zf', 'created': {'actor': 'urn:li:person:xqJMgbc0zf', 'time': 1677830129535}, 'lastModified': {'actor': 'urn:li:person:xqJMgbc0zf', 'time': 1677830129535}, 'id': '7037329623625453568', '$URN': 'urn:li:comment:(urn:li:activity:7029714599629262848,7037329623625453568)', 'message': {'attributes': [], 'text': 'what kinda name is Hove'}, 'object': 'urn:li:activity:7029714599629262848'}\n",
            "{'actor': 'urn:li:person:xqJMgbc0zf', 'created': {'actor': 'urn:li:person:xqJMgbc0zf', 'time': 1677830112972}, 'lastModified': {'actor': 'urn:li:person:xqJMgbc0zf', 'time': 1677830112972}, 'id': '7037329554155208704', '$URN': 'urn:li:comment:(urn:li:activity:7029714599629262848,7037329554155208704)', 'message': {'attributes': [], 'text': 'you’re literally a genius'}, 'object': 'urn:li:activity:7029714599629262848'}\n",
            "{'actor': 'urn:li:person:xqJMgbc0zf', 'created': {'actor': 'urn:li:person:xqJMgbc0zf', 'time': 1677830101200}, 'lastModified': {'actor': 'urn:li:person:xqJMgbc0zf', 'time': 1677830101200}, 'id': '7037329504779845632', '$URN': 'urn:li:comment:(urn:li:activity:7029714599629262848,7037329504779845632)', 'message': {'attributes': [], 'text': 'wait do these comments show up on my profile'}, 'object': 'urn:li:activity:7029714599629262848'}\n",
            "{'actor': 'urn:li:person:xqJMgbc0zf', 'created': {'actor': 'urn:li:person:xqJMgbc0zf', 'time': 1677830092140}, 'lastModified': {'actor': 'urn:li:person:xqJMgbc0zf', 'time': 1677830092140}, 'id': '7037329466779467777', '$URN': 'urn:li:comment:(urn:li:activity:7029714599629262848,7037329466779467777)', 'message': {'attributes': [], 'text': 'my wife left me yesterday'}, 'object': 'urn:li:activity:7029714599629262848'}\n",
            "{'actor': 'urn:li:person:xqJMgbc0zf', 'created': {'actor': 'urn:li:person:xqJMgbc0zf', 'time': 1677830085142}, 'lastModified': {'actor': 'urn:li:person:xqJMgbc0zf', 'time': 1677830085142}, 'id': '7037329437427699712', '$URN': 'urn:li:comment:(urn:li:activity:7029714599629262848,7037329437427699712)', 'message': {'attributes': [], 'text': 'this is really cool'}, 'object': 'urn:li:activity:7029714599629262848'}\n",
            "{'actor': 'urn:li:organization:90442007', 'created': {'actor': 'urn:li:organization:90442007', 'impersonator': 'urn:li:person:TI2s7kHbUp', 'time': 1676842913958}, 'lastModified': {'actor': 'urn:li:organization:90442007', 'impersonator': 'urn:li:person:TI2s7kHbUp', 'time': 1676842913958}, 'id': '7033188941381988352', '$URN': 'urn:li:comment:(urn:li:activity:7029714599629262848,7033188941381988352)', 'message': {'attributes': [], 'text': 'Wow amazing\\n'}, 'object': 'urn:li:activity:7029714599629262848'}\n",
            "Post  1\n",
            "{'paging': {'start': 0, 'count': 10, 'links': [], 'total': 1}, 'elements': [{'actor': 'urn:li:person:TI2s7kHbUp', 'created': {'actor': 'urn:li:person:TI2s7kHbUp', 'time': 1676012363135}, 'lastModified': {'actor': 'urn:li:person:TI2s7kHbUp', 'time': 1676012363135}, 'id': '7029705358747066369', '$URN': 'urn:li:comment:(urn:li:activity:7029702102088130560,7029705358747066369)', 'message': {'attributes': [], 'text': 'Test 123'}, 'object': 'urn:li:activity:7029702102088130560'}]}\n",
            "{'actor': 'urn:li:person:TI2s7kHbUp', 'created': {'actor': 'urn:li:person:TI2s7kHbUp', 'time': 1676012363135}, 'lastModified': {'actor': 'urn:li:person:TI2s7kHbUp', 'time': 1676012363135}, 'id': '7029705358747066369', '$URN': 'urn:li:comment:(urn:li:activity:7029702102088130560,7029705358747066369)', 'message': {'attributes': [], 'text': 'Test 123'}, 'object': 'urn:li:activity:7029702102088130560'}\n",
            "Post  2\n",
            "{'paging': {'start': 0, 'count': 10, 'links': [], 'total': 0}, 'elements': []}\n"
          ]
        }
      ]
    },
    {
      "cell_type": "code",
      "source": [
        "datacenter"
      ],
      "metadata": {
        "id": "9qxCA01CiU4c"
      },
      "execution_count": null,
      "outputs": []
    },
    {
      "cell_type": "code",
      "source": [
        "for us in sorted_users:\n",
        "  print(us.user_data['id'] + ' ' + us.user_data['name'] + ' ' + str(us.user_criteria_scores))"
      ],
      "metadata": {
        "colab": {
          "base_uri": "https://localhost:8080/"
        },
        "id": "mLeAG1PiSmno",
        "outputId": "886a82dc-056e-4a0d-e35e-7a8532f3808f"
      },
      "execution_count": null,
      "outputs": [
        {
          "output_type": "stream",
          "name": "stdout",
          "text": [
            "xqJMgbc0zf Natalee Chu 1.015501579214744\n",
            "TI2s7kHbUp Nir Miller 0.6387615326990813\n"
          ]
        }
      ]
    },
    {
      "cell_type": "code",
      "source": [
        "datacenter = dict()\n",
        "\n",
        "urn = 'urn:li:ugcPost:6876175560398168064'\n",
        "\n",
        "link = '/content/drive/MyDrive/LinkedInScraper/Dataset/UserData_Always_Empty_When_Not_Running/test_data'\n",
        "\n",
        "# Gets Post Data and uploads it to datacenter\n",
        "comments = get_comments(urn)\n",
        "getCommentData(datacenter, comments)\n",
        "\n",
        "# Sorts data in datacenter based on several inputted criteria\n",
        "sorted_users = return_sorted_users(datacenter)\n",
        "\n",
        "# Temporarly Uploads to google sheets for viewing.\n",
        "upload_data_gs(creds, link, sorted_users)\n"
      ],
      "metadata": {
        "id": "XcVSmaWydaLM",
        "colab": {
          "base_uri": "https://localhost:8080/",
          "height": 390
        },
        "outputId": "d63398ff-590f-4cbd-86b3-9f5ec6a00df4"
      },
      "execution_count": null,
      "outputs": [
        {
          "output_type": "stream",
          "name": "stdout",
          "text": [
            "{'message': 'member is unauthorized on urn:li:ugcPost:6876175560398168064', 'status': 403}\n"
          ]
        },
        {
          "output_type": "error",
          "ename": "KeyError",
          "evalue": "ignored",
          "traceback": [
            "\u001b[0;31m---------------------------------------------------------------------------\u001b[0m",
            "\u001b[0;31mKeyError\u001b[0m                                  Traceback (most recent call last)",
            "\u001b[0;32m<ipython-input-64-352acf650ee0>\u001b[0m in \u001b[0;36m<module>\u001b[0;34m\u001b[0m\n\u001b[1;32m      7\u001b[0m \u001b[0;31m# Gets Post Data and uploads it to datacenter\u001b[0m\u001b[0;34m\u001b[0m\u001b[0;34m\u001b[0m\u001b[0m\n\u001b[1;32m      8\u001b[0m \u001b[0mcomments\u001b[0m \u001b[0;34m=\u001b[0m \u001b[0mget_comments\u001b[0m\u001b[0;34m(\u001b[0m\u001b[0murn\u001b[0m\u001b[0;34m)\u001b[0m\u001b[0;34m\u001b[0m\u001b[0;34m\u001b[0m\u001b[0m\n\u001b[0;32m----> 9\u001b[0;31m \u001b[0mgetCommentData\u001b[0m\u001b[0;34m(\u001b[0m\u001b[0mdatacenter\u001b[0m\u001b[0;34m,\u001b[0m \u001b[0mcomments\u001b[0m\u001b[0;34m)\u001b[0m\u001b[0;34m\u001b[0m\u001b[0;34m\u001b[0m\u001b[0m\n\u001b[0m\u001b[1;32m     10\u001b[0m \u001b[0;34m\u001b[0m\u001b[0m\n\u001b[1;32m     11\u001b[0m \u001b[0;31m# Sorts data in datacenter based on several inputted criteria\u001b[0m\u001b[0;34m\u001b[0m\u001b[0;34m\u001b[0m\u001b[0m\n",
            "\u001b[0;32m<ipython-input-56-5555f3b6c181>\u001b[0m in \u001b[0;36mgetCommentData\u001b[0;34m(datacenter, comments)\u001b[0m\n\u001b[1;32m      3\u001b[0m \u001b[0;34m\u001b[0m\u001b[0m\n\u001b[1;32m      4\u001b[0m       \u001b[0mprint\u001b[0m\u001b[0;34m(\u001b[0m\u001b[0mcomments\u001b[0m\u001b[0;34m)\u001b[0m\u001b[0;34m\u001b[0m\u001b[0;34m\u001b[0m\u001b[0m\n\u001b[0;32m----> 5\u001b[0;31m       \u001b[0;32mfor\u001b[0m \u001b[0mcom\u001b[0m \u001b[0;32min\u001b[0m \u001b[0mcomments\u001b[0m\u001b[0;34m[\u001b[0m\u001b[0;34m'elements'\u001b[0m\u001b[0;34m]\u001b[0m\u001b[0;34m:\u001b[0m\u001b[0;34m\u001b[0m\u001b[0;34m\u001b[0m\u001b[0m\n\u001b[0m\u001b[1;32m      6\u001b[0m           \u001b[0mprint\u001b[0m\u001b[0;34m(\u001b[0m\u001b[0mcom\u001b[0m\u001b[0;34m)\u001b[0m\u001b[0;34m\u001b[0m\u001b[0;34m\u001b[0m\u001b[0m\n\u001b[1;32m      7\u001b[0m           \u001b[0mid_type\u001b[0m \u001b[0;34m=\u001b[0m \u001b[0;34m''\u001b[0m\u001b[0;34m\u001b[0m\u001b[0;34m\u001b[0m\u001b[0m\n",
            "\u001b[0;31mKeyError\u001b[0m: 'elements'"
          ]
        }
      ]
    }
  ]
}